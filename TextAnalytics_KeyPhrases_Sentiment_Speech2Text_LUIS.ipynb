{
  "metadata": {
    "kernelspec": {
      "name": "python3",
      "display_name": "Python 3",
      "language": "python"
    },
    "language_info": {
      "mimetype": "text/x-python",
      "nbconvert_exporter": "python",
      "name": "python",
      "pygments_lexer": "ipython3",
      "version": "3.5.4",
      "file_extension": ".py",
      "codemirror_mode": {
        "version": 3,
        "name": "ipython"
      }
    }
  },
  "nbformat_minor": 2,
  "nbformat": 4,
  "cells": [
    {
      "cell_type": "markdown",
      "source": "# Text and Speech Analysis\nThis notebook includes some basic examples of techniques used to analyze text and speech.",
      "metadata": {}
    },
    {
      "cell_type": "markdown",
      "source": "## Performing Basic Frequency Analysis\nLet's start by using some very basic frequency analysis on a document to see if we can determine what the document is about  based on word frequency.\n\n### Load a Text Document\nRun the cell below to load a document and view the text it contains.",
      "metadata": {}
    },
    {
      "cell_type": "code",
      "source": "# Use Curl to get a document from GitHub and open it\n!curl https://raw.githubusercontent.com/MicrosoftLearning/AI-Introduction/master/files/Moon.txt -o Moon.txt\ndoc1 = open(\"Moon.txt\", \"r\")\n\n# Read the document and print its contents\ndoc1Txt = doc1.read()\nprint(doc1Txt)",
      "metadata": {
        "trusted": true
      },
      "execution_count": null,
      "outputs": []
    },
    {
      "cell_type": "markdown",
      "source": "### Normalize the Text\nText includes a lot of punctuation, which we need to remove if we want to work only with the actual words.\n\nRun the cell below to strip all the punctuation from the text and convert the words to lower case.",
      "metadata": {}
    },
    {
      "cell_type": "code",
      "source": "from string import punctuation\n\n# remove numeric digits\ntxt = ''.join(c for c in doc1Txt if not c.isdigit())\n\n# remove punctuation and make lower case\ntxt = ''.join(c for c in txt if c not in punctuation).lower()\n\n# print the normalized text\nprint (txt)",
      "metadata": {
        "trusted": true
      },
      "execution_count": null,
      "outputs": []
    },
    {
      "cell_type": "markdown",
      "source": "### Get the Frequency Distribution\nNow let's tokenize the text (split it into individual words), and count the number of times each word occurs.",
      "metadata": {}
    },
    {
      "cell_type": "code",
      "source": "import nltk\nimport pandas as pd\nfrom nltk.probability import FreqDist\nnltk.download(\"punkt\")\n\n# Tokenize the text into individual words\nwords = nltk.tokenize.word_tokenize(txt)\n\n# Get the frequency distribution of the words into a data frame\nfdist = FreqDist(words)\ncount_frame = pd.DataFrame(fdist, index =[0]).T\ncount_frame.columns = ['Count']\nprint (count_frame)",
      "metadata": {
        "trusted": true
      },
      "execution_count": null,
      "outputs": []
    },
    {
      "cell_type": "markdown",
      "source": "### Visualize Word Frequency\nIt's often easier to analyze frequency by creating a visualization, such as a Pareto chart.",
      "metadata": {}
    },
    {
      "cell_type": "code",
      "source": "%matplotlib inline\nimport matplotlib.pyplot as plt\n\ncounts = count_frame.sort_values('Count', ascending = False)\nfig = plt.figure(figsize=(16, 9))\nax = fig.gca()    \ncounts['Count'][:60].plot(kind = 'bar', ax = ax)\nax.set_title('Frequency of the most common words')\nax.set_ylabel('Frequency of word')\nax.set_xlabel('Word')\nplt.show()",
      "metadata": {
        "trusted": true
      },
      "execution_count": null,
      "outputs": []
    },
    {
      "cell_type": "markdown",
      "source": "### Remove Stopwords\nA large number of the words in the text are common words like \"the\" or \"and\". These \"stopwords\" add little in the way of semantic meaning to the text, and won't help us determine the subject matter - so run the cell below to remove them.",
      "metadata": {}
    },
    {
      "cell_type": "code",
      "source": "# remove stopwords\nnltk.download(\"stopwords\")\nfrom nltk.corpus import stopwords\ntxt = ' '.join([word for word in txt.split() if word not in (stopwords.words('english'))])\nprint(\"\\n\")\nprint(txt)",
      "metadata": {
        "trusted": true
      },
      "execution_count": null,
      "outputs": []
    },
    {
      "cell_type": "markdown",
      "source": "### Visualize the Frequency Distribution for the Remaining Words\nNow that we've prepared the text, we can tokenize the string into a list of individual words, and then perform frequency analysis on those words based on how often they appear in the text.",
      "metadata": {}
    },
    {
      "cell_type": "code",
      "source": "# Get the frequency distribution of the remaining words\nwords = nltk.tokenize.word_tokenize(txt)\nfdist = FreqDist(words)\ncount_frame = pd.DataFrame(fdist, index =[0]).T\ncount_frame.columns = ['Count']\n\n# Plot the frequency of the top 60 words\ncounts = count_frame.sort_values('Count', ascending = False)\nfig = plt.figure(figsize=(16, 9))\nax = fig.gca()    \ncounts['Count'][:60].plot(kind = 'bar', ax = ax)\nax.set_title('Frequency of the most common words')\nax.set_ylabel('Frequency of word')\nax.set_xlabel('Word')\nplt.show()",
      "metadata": {
        "trusted": true
      },
      "execution_count": null,
      "outputs": []
    },
    {
      "cell_type": "markdown",
      "source": "The most frequent word is \"new\", and other common words include \"go\", \"space\", \"science\", and \"moon\".",
      "metadata": {}
    },
    {
      "cell_type": "markdown",
      "source": "## Using Term Frequency - Inverse Document Frequency\nIn the previous example, we've used basic term frequency to determine each word's \"importance\" based on how often it appears in the document. When dealing with a large corpus of multiple documents, a more commonly used technique is *term frequency, inverse document frequency* (or TF-IDF) in which a score is calculated based on how often a word or term appears in one document compared to its more general frequency across the entire collection of documents. Using this technique, a high degree of relevance is assumed for words that appear frequently in a particular document, but relatively infrequently across a wide range of other documents.",
      "metadata": {}
    },
    {
      "cell_type": "markdown",
      "source": "### Load and View Two More Documents\nLet's add a couple more documents to our collection.",
      "metadata": {}
    },
    {
      "cell_type": "code",
      "source": "# remind ourselves of the first document\nprint(doc1Txt)\nprint(\"------------------------------------------------\")\n\n# Get a second document, normalize it, and remove stop words\n!curl https://raw.githubusercontent.com/MicrosoftLearning/AI-Introduction/master/files/Gettysburg.txt -o Gettysburg.txt\ndoc2 = open(\"Gettysburg.txt\", \"r\")\ndoc2Txt = doc2.read()\nprint (doc2Txt)\nfrom string import punctuation\ntxt2 = ''.join(c for c in doc2Txt if not c.isdigit())\ntxt2 = ''.join(c for c in txt2 if c not in punctuation).lower()\ntxt2 = ' '.join([word for word in txt2.split() if word not in (stopwords.words('english'))])\n\n\n# and a third\nprint(\"------------------------------------------------\")\n!curl https://raw.githubusercontent.com/MicrosoftLearning/AI-Introduction/master/files/Cognitive.txt -o Cognitive.txt\ndoc3 = open(\"Cognitive.txt\", \"r\")\ndoc3Txt = doc3.read()\nprint (doc3Txt)\nfrom string import punctuation\ntxt3 = ''.join(c for c in doc3Txt if not c.isdigit())\ntxt3 = ''.join(c for c in txt3 if c not in punctuation).lower()\ntxt3 = ' '.join([word for word in txt3.split() if word not in (stopwords.words('english'))])\n",
      "metadata": {
        "trusted": true
      },
      "execution_count": null,
      "outputs": []
    },
    {
      "cell_type": "markdown",
      "source": "### Get TF-IDF Values for the top three words in each document\nNow we'll install the **textblob** library and create some functions that we'll use to find the top 3 most important words in each document.",
      "metadata": {}
    },
    {
      "cell_type": "code",
      "source": "# install textblob library and define functions for TF-IDF\n!pip install -U textblob\nimport math\nfrom textblob import TextBlob as tb\n\ndef tf(word, doc):\n    lenOfDoc = len(doc.words)\n    if lenOfDoc < 1: return 0\n    else: return doc.words.count(word) / lenOfDoc\n\ndef contains(word, docs):\n    return sum(1 for doc in docs if word in doc.words)\n\ndef idf(word, docs):\n    docsCount = contains(word, docs)\n    if docsCount < 1 : return 0\n    else: return math.log(len(docs) / docsCount)\n\ndef tfidf(word, doc, docs):\n    return tf(word,doc) * idf(word, docs)\n\n\n# Create a collection of documents as textblobs\ndoc1 = tb(txt)\ndoc2 = tb(txt2)\ndoc3 = tb(txt3)\ndocs = [doc1, doc2, doc3]\n\n# Use TF-IDF to get the three most important words from each document\nprint('-----------------------------------------------------------')\nfor i, doc in enumerate(docs):\n    print(\"Top words in document {}\".format(i + 1))\n    scores = {word: tfidf(word, doc, docs) for word in doc.words}\n    sorted_words = sorted(scores.items(), key=lambda x: x[1], reverse=True)\n    for word, score in sorted_words[:3]:\n        print(\"\\tWord: {}, TF-IDF: {}\".format(word, round(score, 5)))\n",
      "metadata": {
        "trusted": true
      },
      "execution_count": null,
      "outputs": []
    },
    {
      "cell_type": "markdown",
      "source": "## Stemming\nUntil now, we've simply counted the number of occurrances of each word. This doesn't take into account the fact that sometimes multiple words may be based on the same common base, or *stem*; and may be semantically equivalent. For example, \"fishes\", \"fished\", \"fishing\", and \"fisher\" are all derived from the stem \"fish\".\n\n### View frequency of words from Kennedy's inauguration speech\nLet's look at another document and count the unstemmed words it contains.",
      "metadata": {}
    },
    {
      "cell_type": "code",
      "source": "# Load and print text\n!curl https://raw.githubusercontent.com/MicrosoftLearning/AI-Introduction/master/files/Inaugural.txt -o Inaugural.txt\ndoc4 = open(\"Inaugural.txt\", \"r\", encoding=\"utf-16\")\ndoc4Txt = doc4.read()\n\nprint(doc4Txt)\n\n# Normalize and remove stop words\nfrom string import punctuation\ndoc4Txt = ''.join(c for c in doc4Txt if not c.isdigit())\ndoc4Txt = ''.join(c for c in doc4Txt if c not in punctuation).lower()\ndoc4Txt = ' '.join([word for word in doc4Txt.split() if word not in (stopwords.words('english'))])\n\n# Get Frequency distribution\nwords = nltk.tokenize.word_tokenize(doc4Txt)\nfdist = FreqDist(words)\ncount_frame = pd.DataFrame(fdist, index =[0]).T\ncount_frame.columns = ['Count']\n\n# Plot frequency\ncounts = count_frame.sort_values('Count', ascending = False)\nfig = plt.figure(figsize=(16, 9))\nax = fig.gca()    \ncounts['Count'][:60].plot(kind = 'bar', ax = ax)\nax.set_title('Frequency of the most common words')\nax.set_ylabel('Frequency of word')\nax.set_xlabel('Word')\nplt.show()",
      "metadata": {
        "scrolled": false,
        "trusted": true
      },
      "execution_count": null,
      "outputs": []
    },
    {
      "cell_type": "markdown",
      "source": "### Stem the words using the Porter stemmer\nNow let's stem the words and count the stems.",
      "metadata": {}
    },
    {
      "cell_type": "code",
      "source": "from nltk.stem.porter import PorterStemmer\n\n# Get the word stems\nps = PorterStemmer()\nstems = [ps.stem(word) for word in words]\n\n# Get Frequency distribution\nfdist = FreqDist(stems)\ncount_frame = pd.DataFrame(fdist, index =[0]).T\ncount_frame.columns = ['Count']\n\n# Plot frequency\ncounts = count_frame.sort_values('Count', ascending = False)\nfig = plt.figure(figsize=(16, 9))\nax = fig.gca()    \ncounts['Count'][:60].plot(kind = 'bar', ax = ax)\nax.set_title('Frequency of the most common words')\nax.set_ylabel('Frequency of word')\nax.set_xlabel('Word')\nplt.show()",
      "metadata": {
        "trusted": true
      },
      "execution_count": null,
      "outputs": []
    },
    {
      "cell_type": "markdown",
      "source": "Compare the frequencies of the stems to the unstemmed words. Note in particular that the unstemmed woprds include \"power\", \"powers\", and \"powerful\", which are all stemmed to \"power\". Additionally, the text includes \"nations\" and \"nation\" - which also have a common stem.",
      "metadata": {}
    },
    {
      "cell_type": "markdown",
      "source": "## Using the Text Analyics Cognitive Service\nThe previous examples demonstrate some ways to write code and analyze text, and they serve to illustrate that text analytics involves applying statistical techniques to text data in order to discern semantic meaning. This is a common theme in many AI solutions.\n\nMicrosoft Cognitive Services includes a Text Analytics service that encapsulates much more sophisticated techniques for ascertaining meaning from text.",
      "metadata": {}
    },
    {
      "cell_type": "markdown",
      "source": "### Create a Text Analytics Service\nTo see this in action, you need to provision a Text Analytics service in your Azure subscription. Follow these steps to do that:\n\n1. Open another browser tab and navigate to https://portal.azure.com.\n2. Sign in using your Microsoft account.\n3. Click **+ New**, and search for \"**Text Analytics**\".\n4. In the list of services, click **Text Analytics**.\n5. In the **Text Analytics API** blade, click **Create**.\n6. In the **Create** blade, enter the following details, and then click **Create**\n  * **Name**: A unique name for your service.\n  * **Subscription**: Your Azure subscription.\n  * **Location**: Choose the Azure datacenter location where you want to host your service.\n  * **Pricing tier**: Choose the F0 pricing tier.\n  * **Resource Group**: Choose the existing resource group you created in the previous lab (or create a new one if you didn't complete the previous lab)\n7. Wait for the service to be created.\n8. When deployment is complete, click **All Resources** and then click your Text Analytics service to open its blade.\n9. In the blade for your Text Analytics service, note the **Endpoint** URL. Then assign the base URI (*region*.api.cognitive.microsoft.com) for your service to the **textAnalyticsURI** variable in the cell below.\n10. In the blade for your Text Analytics service, click **Keys** and then copy **Key 1** to the clipboard and paste it into the **textKey** variable assignment value in the cell below. \n11. Run the cell below to assign the variables.",
      "metadata": {}
    },
    {
      "cell_type": "code",
      "source": "textAnalyticsURI = 'https://eastus2.api.cognitive.microsoft.com/text/analytics/v2.0'\ntextKey = '4f9cc2d1354b4d92b2aebbea75b4b796'",
      "metadata": {
        "trusted": true
      },
      "execution_count": null,
      "outputs": []
    },
    {
      "cell_type": "markdown",
      "source": "### Call the Text Analytics Service to Determine Key Phrases in the Documents\nOne of the methods provided by the Text Analytics service is the ability to extract a list of key phrases from text documents, which give an insight into the core topics discussed in the document.\n\nRun the following cell to call the **keyPhrases** method of the Text Analytics service and extract the key phrases for the text documents you have loaded so far in this notebook.",
      "metadata": {}
    },
    {
      "cell_type": "code",
      "source": "import requests\n\nheaders = {'Content-Type':'application/json', 'Ocp-Apim-Subscription-Key':textKey, 'Accept':'application/json'}\nbody = {\n  \"documents\": [\n    {\n      \"language\": \"en\",\n      \"id\": \"1\",\n      \"text\": doc1Txt\n    },\n    {\n          \"language\": \"en\",\n          \"id\": \"2\",\n          \"text\": doc2Txt\n    },\n    {\n          \"language\": \"en\",\n          \"id\": \"3\",\n          \"text\": doc3Txt\n    },\n    {\n          \"language\": \"en\",\n          \"id\": \"4\",\n          \"text\": doc4Txt\n    }\n  ]\n}\n\ntry:\n  resp = requests.post(textAnalyticsURI+'/languages', json=body, headers=headers)\n  resp.status_code\n  print(\"Resturned data: \" + resp.text)\n\nexcept Exception as e:\n    print(\"Error returned: \" + e)\n\n",
      "metadata": {
        "scrolled": true,
        "trusted": true
      },
      "execution_count": null,
      "outputs": []
    },
    {
      "cell_type": "markdown",
      "source": "From these key phrases, it's reasonably clear that the first document is about freedom and nationhood, while the second is about software services for AI.\n\n### Perform Sentiment Analysis\nAnother common AI requirement is to determine the sentiment associated with some text. For example, you might analyze tweets that include your organization's twitter handle to determine if they are positive or negative.\n\nRun the cell below to use the **sentiment** method of the Text Analytics service to discern the sentiment of two sentences.",
      "metadata": {}
    },
    {
      "cell_type": "code",
      "source": "import json\n\nbody = {\n  \"documents\": [\n    {\n      \"language\": \"en\",\n      \"id\": \"1\",\n      \"text\": \"Wow! cognitive services are fantastic.\"\n    },\n    {\n      \"language\": \"en\",\n      \"id\": \"2\",\n      \"text\": \"I hate it when computers don't understand me.\"\n    }\n  ]\n}\n\ntry:\n    \n  # Call text analytics for --> key phrases  <--\n    \n  resp = requests.post(textAnalyticsURI+'/keyPhrases', json=body, headers=headers)\n  resp.status_code\n  jsonResp = json.loads(resp.text)\n  \n  for i, document in enumerate(jsonResp['documents']):\n    print(\"document \" + jsonResp['documents'][i]['id'] + \": \\\"\" +\n          body['documents'][i]['text'] +\n          \"\\\" \\n  --> keyPhrase is : \" ,\n          jsonResp['documents'][i]['keyPhrases'])\n    \n  # Call text analytics for --> sentiment analysis  <--\n  print(\"\")\n\n  resp = requests.post(textAnalyticsURI+'/sentiment', json=body, headers=headers)\n  jsonResp = json.loads(resp.text)\n  \n  for i, document in enumerate(jsonResp['documents']):\n      sentiment = \"negative\"\n      if document['score'] >= 0.5:\n        sentiment = \"positive\"\n      print(\"document\" ,i+1, \"sentiment score is : \" ,\n            jsonResp['documents'][i]['score'], \"---> \" + sentiment)\n\n\nexcept Exception as e:\n  print(\"Error returned: \" + e)\n\n",
      "metadata": {
        "trusted": true
      },
      "execution_count": null,
      "outputs": []
    },
    {
      "cell_type": "markdown",
      "source": "## Working with Speech\nSo far, we've seen how analyze text; but increasingly AI systems enable humans to communicate with software services through speech recognition.\n\n### Create a Bing Speech Service\nThe Microsoft Cognitive Services include the Bing Speech service, that can interpret spoken input from a microphone or audio file. Follow these steps to provision the Bing speech service:\n\n1. Open another browser tab and navigate to https://portal.azure.com.\n2. Sign in using your Microsoft account.\n3. Click **+ New**, and search for \"**Bing Speech**\".\n4. In the list of services, click **Bing Speech**.\n5. In the **Bing Speech** blade, click **Create**.\n6. In the **Create** blade, enter the following details, and then click **Create**\n  * **Name**: A unique name for your service.\n  * **Subscription**: Your Azure subscription.\n  * **Pricing tier**: Choose the F0 pricing tier.\n  * **Resource Group**: Choose the existing resource group you used previously.\n7. Wait for the service to be created.\n8. When deployment is complete, click **All Resources** and then click your Bing Speech service to open its blade.\n10. In the blade for your Bing Speech service, click **Keys** and then copy **Key 1** to the clipboard and paste it into the **textKey** variable assignment value in the cell below. ",
      "metadata": {}
    },
    {
      "cell_type": "code",
      "source": "speechKey = '1c58ec88084546d7b66c9b1e41eaec9f'",
      "metadata": {
        "trusted": true
      },
      "execution_count": null,
      "outputs": []
    },
    {
      "cell_type": "markdown",
      "source": "### Install the SpeechRecognition Package\nYou can call the Bing Speech API by sending HTTP requests containing a JSON payload as you did for the Text Analytics API. However, the Bing Speech API is supported in a pre-built Python package named **SpeechRecognition**, which makes it easier to use. You can find out more about this package at https://pypi.python.org/pypi/SpeechRecognition.\n\nRun the following cell to install the **SpeechRecognition** package.",
      "metadata": {}
    },
    {
      "cell_type": "code",
      "source": "!pip install SpeechRecognition",
      "metadata": {
        "trusted": true
      },
      "execution_count": null,
      "outputs": []
    },
    {
      "cell_type": "markdown",
      "source": "### Listen to the Speech\nIn this exercise, you will use a .wav audio file. To hear the speech you will analyze, run the cell below (this assumes you have audio capabilities in your computer!)",
      "metadata": {}
    },
    {
      "cell_type": "code",
      "source": "import IPython\n\n!curl https://raw.githubusercontent.com/MicrosoftLearning/AI-Introduction/master/files/RainSpain.wav -o RainSpain.wav\n\nIPython.display.Audio('RainSpain.wav', autoplay=True)",
      "metadata": {
        "trusted": true
      },
      "execution_count": null,
      "outputs": []
    },
    {
      "cell_type": "markdown",
      "source": "### Call the Bing Speech Service to Transcribe the Audio\nHopefully you understood what was said in the audio file.\n\nLet's see how the Bing Speech API does!",
      "metadata": {}
    },
    {
      "cell_type": "code",
      "source": "import speech_recognition as sr\n\n# Read the audio file\nr = sr.Recognizer()\nwith sr.AudioFile('RainSpain.wav') as source:\n    audio = r.record(source)\n    \n# Alternative code to use mic input (only works in local Jupyter - not in Azure Notebooks)\n# r = sr.Recognizer()\n# with sr.Microphone() as source:\n#     print(\"Say something!\")\n#     audio = r.listen(source)\n\n# transcribe speech using the Bing Speech API\ntry:\n    transcription = r.recognize_bing(audio, key=speechKey)\n    print(\"Here's what I heard:\")\n    print('\"' + transcription + '\"')\n    \nexcept sr.UnknownValueError:\n    print(\"The audio was unclear\")\nexcept sr.RequestError as e:\n    print (e)\n    print(\"Something went wrong :-(; {0}\".format(e))\n",
      "metadata": {
        "trusted": true
      },
      "execution_count": null,
      "outputs": []
    },
    {
      "cell_type": "markdown",
      "source": "## Using the Language Understanding Intelligence Service (LUIS)\nIncreasingly, we expect computers to be able to use AI in order to understand spoken or typed commands in natural language. For example, we want to be able to say \"switch on the light\" or \"put the light on\", and have an AI-powered device understand the command and take appropriate action.\n\n### Provision the Language Understanding Intelligence Service (LUIS)\nThe Microsoft cognitive services include the Language Understanding Intelligence Service (LUIS), which enables you to define *intents* that are applied to *entities* based on *utterances*.\n\nTo get started with LUIS, follow these steps to provision the service in your Azure subscription:\n1. Open another browser tab and navigate to https://portal.azure.com.\n2. Sign in using your Microsoft account.\n3. Click **+ New**, and search for **Language Understanding**.\n4. In the list of services, click **Language Understanding**.\n5. In the **Language Understanding** blade, click **Create**.\n6. In the **Create** blade, enter the following details, and then click **Create**\n  * **Name**: A unique name for your service.\n  * **Subscription**: Your Azure subscription.\n  * **Location**: Choose a location in the US.\n  * **Pricing tier**: Choose the F0 pricing tier.\n  * **Resource Group**: Choose the existing resource group you used previously.\n7. Wait for the service to be created.\n\n### Create a LUIS App\nTo implement natural language understanding with LUIS, you must first create an app; and then add intents, utterances, and entities to define the commands you want the app to understand.\n1. Open a new browser tab and navigate to https://www.luis.ai/.\n2. Sign in using the Microsoft account associated with your Azure subscription. If this is the first time you have signed into LUIS, you may need to grant the app some permissions to access your account details, and then fill in some information and accept the terms of use.\n3. If a message prompting you to complete a tutorial in which you will create a *Scheduler* app is displayed, close it (you can complete this tutorial later - for now, we'll focus on a simpler example).\n4. Click **New App** and create a new app with the following settings:\n  * **Name**: Simple Home Automation\n  * **Culture**: English\n  * **Description**: A basic home automation example\n5. In the pane on the left, click **Intents**. Then click **Create new intent**, and add an intent with the name **Light On**.\n6. In the **Utterances** page for the **Light On** intent, type \"*switch the light on*\" and press **Enter** to add this utterance to the list.\n7. In the list of utterances, in the *switch the light on* utterance, hold the mouse over the word \"light\" so that the list shows the value *switch the [light] on*. Then click **[light]**,  type *Light*, and click **Create a new entity** and create a *simple* entity named **Light**.\n8. In the pane on the left, click **Intents** and click **Create new intent**, to add a second intent with the name **Light Off**.\n9. In the **Utterances** page for the **Light Off** intent, type \"*switch the light off*\" and press **Enter** to add this utterance to the list.\n10. In the list of utterances, in the *switch the light on* utterance, hold the mouse over the word \"light\" so that the list shows the value *switch the [light] on*. Then click **[light]** select the *Light* entity you created previously.\n11. At the top of the page, click **Train** to train the application\n12. After the app has been trained, click **Test**, and then in the test pane, enter the following utterances and verify that they are correctly interpreted as commands for the *Light On* and *Light Off* intents respectively:\n    * *turn on the light*\n    * *put the light off*\n13. At the top of the page, click **Publish**. Then ensure that the **Production** slot is selected and click **Publish**.\n14. After the app has been published, note the **Endpoint** URL that is generated for your app at the bottom of the page - this includes the location where you provisioned the service, your app ID, and the key assigned to the app.\n\n### Consume the LUIS App\nNow that you have published your LUIS app, you can consume it from a client application by making HTTP requests that include a query string. The query will be used to identify the most likely intent, which will be returned to the calling client as in JSON response.\n\nModify the **endpointUrl** variable declaration in the cell below to reflect the endpoint URL for your app. Then run the cell, and enter a command when prompted to call your service and interpret the command. The JSON response is shown with an appropriate image for each command.\n\nTry the following commands:\n* *Switch on the light*\n* *Turn on the light*\n* *Turn off the light*\n* *Could you put the light on please?*",
      "metadata": {}
    },
    {
      "cell_type": "code",
      "source": "%matplotlib inline\nfrom matplotlib.pyplot import imshow\nfrom PIL import Image\nimport requests\nfrom io import BytesIO\nimport json \n\n# Set up API configuration\nendpointUrl = \"https://westus.api.cognitive.microsoft.com/luis/v2.0/apps/a869e2a2-9fb0-46de-8d3c-83710407323c?subscription-key=4b3ef03d94394338bae18a77595272f7&verbose=true&timezoneOffset=0&q= \"\n\n# prompt for a command\ncommand = input('Please enter a command: \\n')\n\n# Call the LUIS service and get the JSON response\nendpoint = endpointUrl + command.replace(\" \",\"+\")\nresponse = requests.get(endpoint)\ndata = json.loads(response.content.decode(\"UTF-8\"))\nprint (data)\n\n# Identify the top scoring intent\nintent = data[\"topScoringIntent\"][\"intent\"]\nif (intent == \"Light On\"):\n    img_url = 'https://raw.githubusercontent.com/MicrosoftLearning/AI-Introduction/master/files/LightOn.jpg'\nelif (intent == \"Light Off\"):\n    img_url = 'https://raw.githubusercontent.com/MicrosoftLearning/AI-Introduction/master/files/LightOff.jpg'\nelse:\n    img_url = 'https://raw.githubusercontent.com/MicrosoftLearning/AI-Introduction/master/files/Dunno.jpg'\n\n# Get the appropriate image and show it\nresponse = requests.get(img_url)\nimg = Image.open(BytesIO(response.content))\nimshow(img)\n",
      "metadata": {
        "scrolled": true,
        "trusted": true
      },
      "execution_count": null,
      "outputs": []
    },
    {
      "cell_type": "markdown",
      "source": "## Combining Speech Recognition and Natural Language Understanding\nAn obvious next step is to combine speech recognition with natural language understanding so that a spoken command can be interpreted and the appropriate action taken.\n\n### Download Command Audio\nLet's start by downloading and playing some spoken commands for our home automation system. Run the two cells under this to hear the commands.",
      "metadata": {}
    },
    {
      "cell_type": "code",
      "source": "import IPython\n\n# Get the \"lights on\" command\n!curl https://raw.githubusercontent.com/MicrosoftLearning/AI-Introduction/master/files/LightOn.wav -o LightOn.wav\n    \nIPython.display.Audio('LightOn.wav', autoplay=True)",
      "metadata": {
        "trusted": true
      },
      "execution_count": null,
      "outputs": []
    },
    {
      "cell_type": "code",
      "source": "# Get the \"lights on\" command\n!curl https://raw.githubusercontent.com/MicrosoftLearning/AI-Introduction/master/files/LightOff.wav -o LightOff.wav\n    \nIPython.display.Audio('LightOff.wav', autoplay=True)",
      "metadata": {
        "trusted": true
      },
      "execution_count": null,
      "outputs": []
    },
    {
      "cell_type": "markdown",
      "source": "### Transcribe and Interpret the \"Light On\" Command\nNow you can use the Bing Speech API to transcribe the command, and then use your LUIS app to interpret the command and take the appropriate action.\n\nYou should have already installed the **SpeechRecognition** package, set the **speechKey** for your Bing Speech service, and set the **apiUrl**, **appId**, and **appKey** for your LUIS app (if you have closed and re-opened the notebook, re-run the appropriate cells above to set these).\n\nRun the cell below that to test the \"Light On\" command.",
      "metadata": {}
    },
    {
      "cell_type": "code",
      "source": "%matplotlib inline\nimport speech_recognition as sr\nfrom matplotlib.pyplot import imshow\nfrom PIL import Image\nimport requests\nfrom io import BytesIO\nimport json \n\n# Specify which audio file to use\naudioFile = \"LightOn.wav\"\n\n# Read the audio file\nr = sr.Recognizer()\nwith sr.AudioFile(audioFile) as source:\n    audio = r.record(source)\n\ntry:\n    # transcribe speech using the Bing Speech API\n    transcription = r.recognize_bing(audio, key=speechKey)\n    \n    # Call the LUIS service and get the JSON response\n    endpoint = endpointUrl + transcription.replace(\" \",\"+\")\n    response = requests.get(endpoint)\n    data = json.loads(response.content.decode(\"UTF-8\"))\n\n    # Identify the top scoring intent\n    intent = data[\"topScoringIntent\"][\"intent\"]\n    if (intent == \"Light On\"):\n        img_url = 'https://raw.githubusercontent.com/MicrosoftLearning/AI-Introduction/master/files/LightOn.jpg'\n    elif (intent == \"Light Off\"):\n        img_url = 'https://raw.githubusercontent.com/MicrosoftLearning/AI-Introduction/master/files/LightOff.jpg'\n    else:\n        img_url = 'https://raw.githubusercontent.com/MicrosoftLearning/AI-Introduction/master/files/Dunno.jpg'\n\n    # Get the appropriate image and show it\n    response = requests.get(img_url)\n    img = Image.open(BytesIO(response.content))\n    imshow(img)\n    \nexcept sr.UnknownValueError:\n    print(\"Bing Speech could not understand audio\")\nexcept sr.RequestError as e:\n    print (e)\n    print(\"Could not request results from the Bing Speech service; {0}\".format(e))\n",
      "metadata": {
        "trusted": true
      },
      "execution_count": null,
      "outputs": []
    },
    {
      "cell_type": "markdown",
      "source": "### Transcribe and Interpret the \"Light Off\" Command\nModify the cell above to set the **audioFile** variable to the **LightOff.wav** audio file, and then run the cell again to test it",
      "metadata": {}
    },
    {
      "cell_type": "code",
      "source": "",
      "metadata": {},
      "execution_count": null,
      "outputs": []
    }
  ]
}